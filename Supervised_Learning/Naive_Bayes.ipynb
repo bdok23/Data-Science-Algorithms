{
 "cells": [
  {
   "cell_type": "code",
   "execution_count": 1,
   "metadata": {},
   "outputs": [],
   "source": [
    "'''\n",
    "Naive Bayes works by applying the Bayes' theorem on data with a naive assumption of conditional independence between every pair of features, given the value of the class variable.\n",
    "Naive Bayes assumes that all features are independent (naive) and uses Bayes' Theorem to evaluate the probabilities\n",
    "Naive Bayes is a classification technique\n",
    "'''"
   ]
  },
  {
   "cell_type": "code",
   "execution_count": null,
   "metadata": {},
   "outputs": [],
   "source": []
  }
 ],
 "metadata": {
  "kernelspec": {
   "display_name": "base",
   "language": "python",
   "name": "python3"
  },
  "language_info": {
   "codemirror_mode": {
    "name": "ipython",
    "version": 3
   },
   "file_extension": ".py",
   "mimetype": "text/x-python",
   "name": "python",
   "nbconvert_exporter": "python",
   "pygments_lexer": "ipython3",
   "version": "3.9.12 (main, Apr  5 2022, 06:56:58) \n[GCC 7.5.0]"
  },
  "orig_nbformat": 4,
  "vscode": {
   "interpreter": {
    "hash": "fdc787803726b2ccd4a5bfdd16204da2a5aea8d0422e78c1a99485373d2ffe97"
   }
  }
 },
 "nbformat": 4,
 "nbformat_minor": 2
}
