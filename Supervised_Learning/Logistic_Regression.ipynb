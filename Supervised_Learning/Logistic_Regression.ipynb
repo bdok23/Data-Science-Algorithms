{
 "cells": [
  {
   "attachments": {},
   "cell_type": "markdown",
   "metadata": {},
   "source": [
    "Logistic Regression aims to solve classification problems by predicting categorical outcomes. Sometimes there are two outcomes to classify (binomial), and sometimes there are more than two outcomes to classify (multinomial)."
   ]
  },
  {
   "cell_type": "code",
   "execution_count": 7,
   "metadata": {},
   "outputs": [
    {
     "name": "stdout",
     "output_type": "stream",
     "text": [
      "[0]\n"
     ]
    }
   ],
   "source": [
    "import numpy as np\n",
    "from sklearn import linear_model\n",
    "\n",
    "# X represents the size of a tumor in centimeters\n",
    "X = np.array([3.78, 2.44, 2.09, 0.14, 1.72, 1.65, 4.92, 4.37, 4.96, 4.52, 3.69, 5.88]).reshape(-1, 1) # reshapes with all rows and one column\n",
    "\n",
    "# X has to be reshaped into a column from a row for the LogisticRegression() function to work.\n",
    "\n",
    "# y represents whether or not the tumor is cancerous \n",
    "y = np.array([0, 0, 0, 0, 0, 0, 1, 1, 1, 1, 1, 1]) \n",
    "\n",
    "logr = linear_model.LogisticRegression()\n",
    "logr.fit(X,y)\n",
    "\n",
    "# predict if tumor is cancerous where the size is 3.46mm\n",
    "predicted = logr.predict(np.array([3.46]).reshape(-1,1))\n",
    "print(predicted)"
   ]
  },
  {
   "attachments": {},
   "cell_type": "markdown",
   "metadata": {},
   "source": [
    "In logistic regression, the coefficient is the expected change in log-odds of having the outcome per unit change in X."
   ]
  },
  {
   "cell_type": "code",
   "execution_count": 8,
   "metadata": {},
   "outputs": [
    {
     "name": "stdout",
     "output_type": "stream",
     "text": [
      "[[4.03541657]]\n"
     ]
    }
   ],
   "source": [
    "log_odds = logr.coef_\n",
    "odds = np.exp(log_odds)\n",
    "print(odds)"
   ]
  },
  {
   "attachments": {},
   "cell_type": "markdown",
   "metadata": {},
   "source": [
    "This tells us that if the size of the tumor increases by 1 unit, then the odds of it being a tumor increases by 4 times. "
   ]
  },
  {
   "cell_type": "code",
   "execution_count": 9,
   "metadata": {},
   "outputs": [],
   "source": [
    "def log2prob(logr, x):\n",
    "    log_odds = logr.coef_ * x + logr.intercept_\n",
    "    odds = np.exp(log_odds)\n",
    "    probability = odds/(1 + odds) # convert odds to probability\n",
    "    return(probability)"
   ]
  },
  {
   "attachments": {},
   "cell_type": "markdown",
   "metadata": {},
   "source": [
    "Use the function to find the probability that each tumor is cancerous."
   ]
  },
  {
   "cell_type": "code",
   "execution_count": 11,
   "metadata": {},
   "outputs": [
    {
     "name": "stdout",
     "output_type": "stream",
     "text": [
      "[[0.60749955]\n",
      " [0.19268876]\n",
      " [0.12775886]\n",
      " [0.00955221]\n",
      " [0.08038616]\n",
      " [0.07345637]\n",
      " [0.88362743]\n",
      " [0.77901378]\n",
      " [0.88924409]\n",
      " [0.81293497]\n",
      " [0.57719129]\n",
      " [0.96664243]]\n"
     ]
    }
   ],
   "source": [
    "print(log2prob(logr, X))"
   ]
  },
  {
   "attachments": {},
   "cell_type": "markdown",
   "metadata": {},
   "source": [
    "Confusion matrix - a table that is used in classification problems to assess where errors in the model were made. \n",
    "\n",
    "Rows - actual classes the outcomes should have been. \n",
    "Columns - the predictions that were made. \n",
    "\n",
    "True Positive - predicted positive, actual positive\n",
    "\n",
    "True Negative - predicted negative, actual negative\n",
    "\n",
    "False Positive - predicted positive, actual negative (Type I Error)\n",
    "\n",
    "False Negative - predicted negative, actual positive (Type II Error)"
   ]
  },
  {
   "cell_type": "code",
   "execution_count": 18,
   "metadata": {},
   "outputs": [
    {
     "data": {
      "image/png": "[encoded data removed]",
      "text/plain": [
       "<Figure size 432x288 with 2 Axes>"
      ]
     },
     "metadata": {
      "needs_background": "light"
     },
     "output_type": "display_data"
    }
   ],
   "source": [
    "import numpy as np\n",
    "import matplotlib.pyplot as plt\n",
    "from sklearn import metrics\n",
    "\n",
    "actual = np.random.binomial(1, 0.9, size=1000)\n",
    "predicted = np.random.binomial(1, 0.9, size=1000)\n",
    "\n",
    "confusion_matrix = metrics.confusion_matrix(actual, predicted)\n",
    "cm_display = metrics.ConfusionMatrixDisplay(confusion_matrix=confusion_matrix, display_labels=[False, True])\n",
    "cm_display.plot()\n",
    "plt.show()"
   ]
  },
  {
   "attachments": {},
   "cell_type": "markdown",
   "metadata": {},
   "source": [
    "Confusion Matrix Metrics:"
   ]
  },
  {
   "cell_type": "code",
   "execution_count": 22,
   "metadata": {},
   "outputs": [
    {
     "name": "stdout",
     "output_type": "stream",
     "text": [
      "{'Accuracy': 0.818, 'Precision': 0.897891231964484, 'Sensitivity_recall': 0.899888765294772, 'Specificity': 0.0891089108910891, 'F1_score': 0.8988888888888891}\n"
     ]
    }
   ],
   "source": [
    "# Accuracy measures how often the model is correct.\n",
    "# (True Positive + True Negative) / Total Predictions\n",
    "accuracy = metrics.accuracy_score(actual, predicted)\n",
    "\n",
    "# Precision - of the positives predicted, what percentage was truly positive\n",
    "# True Positive / (True Positive + False Positive)\n",
    "precision = metrics.precision_score(actual, predicted)\n",
    "\n",
    "# Sensitivity (Recall) measures how good the model is at predicting positives\n",
    "# True Positive / (True Positive + False Negative)\n",
    "sensitivity_recall = metrics.recall_score(actual, predicted)\n",
    "\n",
    "# Specificity - how good is the model at predicting negatives\n",
    "# True Negative / (True Negative + False Positive)\n",
    "specificity = metrics.recall_score(actual, predicted, pos_label=0)\n",
    "\n",
    "# F-score is the \"harmonic mean\" of precision and sensitivity\n",
    "# It considers both false positive and false negative cases and is good for imbalanced datasets.\n",
    "# 2 * ((precision * sensitivity) / (precision + sensitivity))\n",
    "f1_score = metrics.f1_score(actual, predicted)\n",
    "\n",
    "# metrics\n",
    "print({\"Accuracy\":accuracy, \"Precision\":precision, \"Sensitivity_recall\":sensitivity_recall, \"Specificity\":specificity, \"F1_score\":f1_score})"
   ]
  },
  {
   "attachments": {},
   "cell_type": "markdown",
   "metadata": {},
   "source": [
    "AUC - ROC Curve\n",
    "(Area Under Curve - Receiver Operating Characteristic)\n",
    "\n",
    "The ROC curve is an evaluation metric for binary classification problems. It is a probability curve that plots the True Positive Rate against the False Positive Rate at various thresholds. \n",
    "\n",
    "The AUC is the measure of the ability of a binary classifier to distinguish between classes and is used as a summary of the ROC curve. \n",
    "\"The higher the AUC, the better the model's performance at distinguishing between the positive and negative classes.\""
   ]
  },
  {
   "cell_type": "code",
   "execution_count": 23,
   "metadata": {},
   "outputs": [
    {
     "name": "stdout",
     "output_type": "stream",
     "text": [
      "accuracy score: 0.95\n",
      "Confusion Matrix\n",
      "[[   0  500]\n",
      " [   0 9500]]\n",
      "Class 0 accuracy: 0.0\n",
      "Class 1 accuracy: 1.0\n"
     ]
    }
   ],
   "source": [
    "import numpy as np\n",
    "from sklearn.metrics import accuracy_score, confusion_matrix, roc_auc_score, roc_curve\n",
    "\n",
    "n = 10000\n",
    "ratio = 0.95\n",
    "n_0 = int((1-ratio) * n)\n",
    "n_1 = int(ratio * n)\n",
    "\n",
    "y = np.array([0] * n_0 + [1] * n_1)\n",
    "# below are the probabilities obtained from a hypothetical model that always predicts the majority class\n",
    "# probability of predicting class 1 is going to be 100%\n",
    "y_proba = np.array([1] * n)\n",
    "y_pred = y_proba > 0.5\n",
    "\n",
    "print(f'accuracy score: {accuracy_score(y, y_pred)}')\n",
    "cf_mat = confusion_matrix(y, y_pred)\n",
    "print('Confusion Matrix')\n",
    "print(cf_mat)\n",
    "print(f'Class 0 accuracy: {cf_mat[0][0]/n_0}')\n",
    "print(f'Class 1 accuracy: {cf_mat[1][1]/n_1}')\n"
   ]
  },
  {
   "cell_type": "code",
   "execution_count": 26,
   "metadata": {},
   "outputs": [
    {
     "name": "stdout",
     "output_type": "stream",
     "text": [
      "accuracy score: 0.7102\n",
      "Confusion Matrix\n",
      "[[ 367  133]\n",
      " [2765 6735]]\n",
      "Class 0 accuracy: 0.734\n",
      "Class 1 accuracy: 0.7089473684210527\n"
     ]
    }
   ],
   "source": [
    "# below are the probabilities obtained from a hypothetical model that doesn't always predict the mode\n",
    "y_proba_2 = np.array(\n",
    "    np.random.uniform(0, .7, n_0).tolist() + \n",
    "    np.random.uniform(.3, 1, n_1).tolist()\n",
    ")\n",
    "y_pred_2 = y_proba_2 > 0.5\n",
    "\n",
    "print(f'accuracy score: {accuracy_score(y, y_pred_2)}')\n",
    "cf_mat = confusion_matrix(y, y_pred_2)\n",
    "print('Confusion Matrix')\n",
    "print(cf_mat)\n",
    "print(f'Class 0 accuracy: {cf_mat[0][0]/n_0}')\n",
    "print(f'Class 1 accuracy: {cf_mat[1][1]/n_1}')"
   ]
  },
  {
   "cell_type": "code",
   "execution_count": 28,
   "metadata": {},
   "outputs": [
    {
     "data": {
      "image/png": "[encoded data removed]",
      "text/plain": [
       "<Figure size 432x288 with 1 Axes>"
      ]
     },
     "metadata": {
      "needs_background": "light"
     },
     "output_type": "display_data"
    },
    {
     "name": "stdout",
     "output_type": "stream",
     "text": [
      "Model 1 AUC score: 0.5\n"
     ]
    },
    {
     "data": {
      "image/png": "[encoded data removed]",
      "text/plain": [
       "<Figure size 432x288 with 1 Axes>"
      ]
     },
     "metadata": {
      "needs_background": "light"
     },
     "output_type": "display_data"
    },
    {
     "name": "stdout",
     "output_type": "stream",
     "text": [
      "Model 2 AUC score: 0.841874947368421\n"
     ]
    }
   ],
   "source": [
    "import matplotlib.pyplot as plt\n",
    "\n",
    "def plot_roc_curve(true_y, y_prob):\n",
    "    # plots the ROC curve based off of the probabilities\n",
    "    fpr, tpr, thresholds = roc_curve(true_y, y_prob)\n",
    "    plt.plot(fpr, tpr)\n",
    "    plt.xlabel('False Positive Rate')\n",
    "    plt.ylabel('True Positive Rate')\n",
    "    plt.show()\n",
    "\n",
    "# Model 1\n",
    "plot_roc_curve(y, y_proba)\n",
    "print(f'Model 1 AUC score: {roc_auc_score(y, y_proba)}')\n",
    "\n",
    "# Model 2\n",
    "plot_roc_curve(y, y_proba_2)\n",
    "print(f'Model 2 AUC score: {roc_auc_score(y, y_proba_2)}')\n"
   ]
  },
  {
   "attachments": {},
   "cell_type": "markdown",
   "metadata": {},
   "source": [
    "Given two models with similar accuracies, the model with the higher AUC score will be more reliable because it takes into account the predicted probability. It will more likely give you higher accuracies when predicting future data."
   ]
  }
 ],
 "metadata": {
  "kernelspec": {
   "display_name": "base",
   "language": "python",
   "name": "python3"
  },
  "language_info": {
   "codemirror_mode": {
    "name": "ipython",
    "version": 3
   },
   "file_extension": ".py",
   "mimetype": "text/x-python",
   "name": "python",
   "nbconvert_exporter": "python",
   "pygments_lexer": "ipython3",
   "version": "3.9.12"
  },
  "orig_nbformat": 4,
  "vscode": {
   "interpreter": {
    "hash": "fdc787803726b2ccd4a5bfdd16204da2a5aea8d0422e78c1a99485373d2ffe97"
   }
  }
 },
 "nbformat": 4,
 "nbformat_minor": 2
}
